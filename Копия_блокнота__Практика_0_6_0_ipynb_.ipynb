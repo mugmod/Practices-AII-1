{
  "nbformat": 4,
  "nbformat_minor": 0,
  "metadata": {
    "colab": {
      "provenance": [],
      "collapsed_sections": [
        "VxawR9NubT_F",
        "y05x0eD0cVCC",
        "vYM0LyxxdElN",
        "L_w8H8i-fQcP",
        "hZW0NZ7SgTcp"
      ]
    },
    "kernelspec": {
      "name": "python3",
      "display_name": "Python 3"
    },
    "language_info": {
      "name": "python"
    }
  },
  "cells": [
    {
      "cell_type": "markdown",
      "source": [
        "\n",
        "\n",
        "---\n",
        "\n"
      ],
      "metadata": {
        "id": "tKNG_RzWxG6g"
      }
    },
    {
      "cell_type": "code",
      "source": [
        "Денисов Роман Николаевич"
      ],
      "metadata": {
        "id": "dRDkg46jy28y"
      },
      "execution_count": null,
      "outputs": []
    },
    {
      "cell_type": "markdown",
      "source": [
        "# **Дисклеймер**\n",
        "\n",
        "В данной практике будет введен дополнительный критерий: чистота и читаемость кода, а также соблюдение правил описанных в начале практики"
      ],
      "metadata": {
        "id": "cFcrKfclKWh0"
      }
    },
    {
      "cell_type": "markdown",
      "source": [
        "\n",
        "\n",
        "---\n",
        "\n"
      ],
      "metadata": {
        "id": "0SnE87X1xDlV"
      }
    },
    {
      "cell_type": "markdown",
      "source": [
        "# Задание 1\n",
        "\n",
        "**Задача:**\n",
        "\n",
        "Напишите функцию очищающий список от дубликтов\n",
        "\n",
        "\n",
        "*Запрещено:*\n",
        "\n",
        "*   Использовать set() или готовые функции очищающие список от дубликатов\n",
        "\n",
        "Вввод:\n",
        "\n",
        "```\n",
        "apple banana apple 1 3 4 4 5\n",
        "```\n",
        "\n",
        "\n",
        "Вывод:\n",
        "\n",
        "```\n",
        "apple banana 1 3 4 5\n",
        "```\n",
        "\n"
      ],
      "metadata": {
        "id": "VxawR9NubT_F"
      }
    },
    {
      "cell_type": "code",
      "source": [
        "def clean_list(list_dup):\n",
        "    list_no_duplicates = [ ]\n",
        "\n",
        "    for x in list_dup:\n",
        "        if list_no_duplicates.count(x) == 0:\n",
        "            list_no_duplicates.append(x)\n",
        "\n",
        "    return list_no_duplicates\n",
        "\n",
        "\n",
        "list_with_duplicates = input( ).split( )\n",
        "\n",
        "print(*clean_list(list_with_duplicates))"
      ],
      "metadata": {
        "id": "ml5gnbPXbeju",
        "colab": {
          "base_uri": "https://localhost:8080/"
        },
        "outputId": "8110ee5a-221c-4ffa-f92c-ea269f1ed808"
      },
      "execution_count": null,
      "outputs": [
        {
          "output_type": "stream",
          "name": "stdout",
          "text": [
            "apple banana apple 1 3 4 4 5\n",
            "apple banana 1 3 4 5\n"
          ]
        }
      ]
    },
    {
      "cell_type": "markdown",
      "source": [
        "# Задание 2\n",
        "\n",
        "**Задача:**\n",
        "\n",
        "Написать функцию для нахождения простых чисел в диапазоне\n",
        "\n",
        "Ввод:\n",
        "\n",
        "```\n",
        "10, 50\n",
        "```\n",
        "\n",
        "Вывод:\n",
        "\n",
        "```\n",
        "11, 13, 17, 19, 23, 29, 31, 37, 41, 43, 47\n",
        "```"
      ],
      "metadata": {
        "id": "y05x0eD0cVCC"
      }
    },
    {
      "cell_type": "code",
      "source": [
        "def dividers(number):\n",
        "    dividers_number = [ ]\n",
        "\n",
        "    for x in range(1, number + 1):\n",
        "        if number % x == 0:\n",
        "            dividers_number.append(x)\n",
        "\n",
        "    return len(dividers_number)\n",
        "\n",
        "\n",
        "def range_simple_numbers(i, j):\n",
        "    simple_numbers = [ ]\n",
        "\n",
        "    for x in range(i, j+1):\n",
        "        if dividers(x) == 2:\n",
        "            simple_numbers.append(str(x))\n",
        "\n",
        "    return simple_numbers\n",
        "\n",
        "\n",
        "range_numbers = input( ).split(\", \")\n",
        "\n",
        "print(*range_simple_numbers(int(range_numbers[0]), int(range_numbers[1])), sep= \", \")\n"
      ],
      "metadata": {
        "id": "XSMJnLgrc6Bf",
        "colab": {
          "base_uri": "https://localhost:8080/"
        },
        "outputId": "000fbbc9-2305-4a16-de10-9655d1ec202c"
      },
      "execution_count": null,
      "outputs": [
        {
          "output_type": "stream",
          "name": "stdout",
          "text": [
            "10, 50\n",
            "11, 13, 17, 19, 23, 29, 31, 37, 41, 43, 47\n"
          ]
        }
      ]
    },
    {
      "cell_type": "markdown",
      "source": [
        "# Задание 3\n",
        "\n",
        "Напишите функцию для объединения двух списков (список ключей и список значении) в словарь\n",
        "\n",
        "*Запрещено:*\n",
        "\n",
        "*   Использования готовых функции для объединения списков (пример: zip() )\n",
        "\n",
        "Дано:\n",
        "\n",
        "```\n",
        "keys = ['a', 'b', 'c', 'e' ]\n",
        "values = [1, 2, 3, 4]\n",
        "```\n",
        "\n",
        "Вывод:\n",
        "```\n",
        "{'a': 1, 'b': 2, 'c': 3, 'e': 4}\n",
        "```\n",
        "\n",
        "\n"
      ],
      "metadata": {
        "id": "vYM0LyxxdElN"
      }
    },
    {
      "cell_type": "code",
      "source": [
        "def keys_enumeration(keys, values):\n",
        "    unified_dictionary = { }\n",
        "    len_keys_and_values = len(keys)\n",
        "\n",
        "    for x in range(len_keys_and_values):\n",
        "        unified_dictionary[keys[x]] = values[x]\n",
        "\n",
        "    return unified_dictionary\n",
        "\n",
        "\n",
        "keys = ['a', 'b', 'c', 'e']\n",
        "values = [1, 2, 3, 4]\n",
        "\n",
        "print(keys_enumeration(keys, values))"
      ],
      "metadata": {
        "id": "CRvhHTjCdvjS",
        "colab": {
          "base_uri": "https://localhost:8080/"
        },
        "outputId": "86f4b00a-8088-4572-9604-2e8ea293e67f"
      },
      "execution_count": null,
      "outputs": [
        {
          "output_type": "stream",
          "name": "stdout",
          "text": [
            "{'a': 1, 'b': 2, 'c': 3, 'e': 4}\n"
          ]
        }
      ]
    },
    {
      "cell_type": "markdown",
      "source": [
        "# Задание 4\n",
        "\n",
        "Напишите функцию(ии) для подсчета статистических параметров:\n",
        "*   Сумму\n",
        "*   Среднее арифметическое\n",
        "*   Медиану\n",
        "*   Моду\n",
        "\n",
        "\n",
        "*Запрещено:*\n",
        "\n",
        "*   sum()\n",
        "*   sorted()\n",
        "*   и других функции предоставляющих готовое решение задания\n",
        "\n",
        "Дано:\n",
        "\n",
        "```\n",
        "numbers = [1, 2, 2, 3, 4, 5, 6, 7, 8 ,9 ,10]\n",
        "\n",
        "```\n",
        "\n",
        "Вывод:\n",
        "```\n",
        "{'mean': 5.181818181818182, 'median': 5, 'mode': 2, 'sum': 57}\n",
        "```\n"
      ],
      "metadata": {
        "id": "L_w8H8i-fQcP"
      }
    },
    {
      "cell_type": "code",
      "source": [
        "def  amount(numbers):\n",
        "    amount = 0\n",
        "\n",
        "    for x in range(len(numbers)):\n",
        "        amount += numbers[x]\n",
        "\n",
        "    return amount\n",
        "\n",
        "\n",
        "def arithmetic_mean(numbers, response_database):\n",
        "    arithmetic_mean = amount(numbers) / len(numbers)\n",
        "\n",
        "    return arithmetic_mean\n",
        "\n",
        "\n",
        "def median(numbers):\n",
        "    median = numbers[5]\n",
        "\n",
        "    return median\n",
        "\n",
        "\n",
        "def mode(numbers):\n",
        "    mode = 0\n",
        "    mode_count = 0\n",
        "\n",
        "    for x in numbers:\n",
        "        if numbers.count(x) > mode_count:\n",
        "            mode_count = numbers.count(x)\n",
        "            mode = x\n",
        "\n",
        "    return mode\n",
        "\n",
        "\n",
        "numbers = [1, 2, 2, 3, 4, 5, 6, 7, 8 ,9 ,10]\n",
        "response_database = { }\n",
        "\n",
        "response_database[\"mean\"] = arithmetic_mean(numbers, response_database)\n",
        "response_database[\"median\"] = median(numbers)\n",
        "response_database[\"mode\"] = mode(numbers)\n",
        "response_database[\"sum\"] = amount(numbers)\n",
        "\n",
        "print(response_database)"
      ],
      "metadata": {
        "id": "dW6jW_rjfuba",
        "colab": {
          "base_uri": "https://localhost:8080/"
        },
        "outputId": "305ffec8-4496-4382-9f83-778c070c467c"
      },
      "execution_count": null,
      "outputs": [
        {
          "output_type": "stream",
          "name": "stdout",
          "text": [
            "{'mean': 5.181818181818182, 'median': 5, 'mode': 2, 'sum': 57}\n"
          ]
        }
      ]
    },
    {
      "cell_type": "markdown",
      "source": [
        "# Задание 5\n",
        "\n",
        "На ввод поступает строка символов. Строка состоит из слов, которые отделены друг от друга пробелами. Необходимо вывести самое длинное слово и его порядковый номер.\n",
        "\n",
        "*Запрещено:*\n",
        "\n",
        "*   len()\n",
        "\n",
        "Дано:\n",
        "\n",
        "```\n",
        "Страдание и боль всегда обязательны для широкого сознания и глубокого сердца.\n",
        "\n",
        "```\n",
        "\n",
        "Вывод:\n",
        "```\n",
        "Самое длинное слово с номером 5: обязательны\n",
        "```"
      ],
      "metadata": {
        "id": "hZW0NZ7SgTcp"
      }
    },
    {
      "cell_type": "code",
      "source": [
        "def sum_characters_in_word(word):\n",
        "    sum_letter = 0\n",
        "\n",
        "    for x in word:\n",
        "        sum_letter += 1\n",
        "\n",
        "    return sum_letter\n",
        "\n",
        "\n",
        "def big_word(proposal):\n",
        "    big_word = 0\n",
        "    big_word_position = 0\n",
        "    position = -1\n",
        "\n",
        "    for x in proposal:\n",
        "        position += 1\n",
        "\n",
        "        if sum_characters_in_word(x) > big_word:\n",
        "            big_word = sum_characters_in_word(x)\n",
        "            big_word_position = position\n",
        "\n",
        "    return f\"Самое длинное слово с номером {big_word_position + 1}:\\\n",
        "    {proposal[big_word_position]}\"\n",
        "\n",
        "\n",
        "proposal = (\"Страдание и боль всегда обязательны для широкого сознания \\\n",
        "и глубокого сердца\").split(\" \")\n",
        "print(big_word(proposal))"
      ],
      "metadata": {
        "id": "rC5DpHHLsDYp",
        "colab": {
          "base_uri": "https://localhost:8080/"
        },
        "outputId": "852724b3-61e5-4074-b95d-d44a1e06a1f9"
      },
      "execution_count": null,
      "outputs": [
        {
          "output_type": "stream",
          "name": "stdout",
          "text": [
            "Самое длинное слово с номером 5:    обязательны\n"
          ]
        }
      ]
    },
    {
      "cell_type": "markdown",
      "source": [
        "# Задание 6\n",
        "\n",
        "Напишите программу, для управления оценками студентов, со следующими функциями:\n",
        "\n",
        "* Добавление информации о студенте и его оценках.\n",
        "* Подсчет среднего балла студента.\n",
        "* Получение списка всех студентов с их средними баллами.\n",
        "* Поиск студента по имени и вывод его оценок и среднего балла.\n",
        "\n",
        "\n",
        "\n"
      ],
      "metadata": {
        "id": "k5BzJW5ZeaQN"
      }
    },
    {
      "cell_type": "code",
      "source": [
        "def student_average_score(student_grades):\n",
        "    sum_score = sum(student_grades)\n",
        "    len_score = len(student_grades)\n",
        "    average_score = sum_score / len_score\n",
        "\n",
        "    return average_score\n",
        "\n",
        "\n",
        "list_of_students = { }\n",
        "\n",
        "flag = True\n",
        "while flag:\n",
        "    print(\"Что бы вы хотели сделать?\")\n",
        "    print(\"Добавить студента и его оценки - 1\")\n",
        "    print(\"Посчитать средний балл студента - 2\")\n",
        "    print(\"Показать список всех студентов с их средними баллами - 3\")\n",
        "    print(\"Найти студента по имени и показать его оценки, средний балл - 4\")\n",
        "\n",
        "    entry = int(input( ))\n",
        "\n",
        "    if entry == 1:\n",
        "        name = input(\"Введите имя студента: \")\n",
        "        evaluations = [int(x) for x in input(\"Введите оценки через пробел: \").split( )]\n",
        "        list_of_students[name] = evaluations\n",
        "\n",
        "        print(name, *list_of_students[name])\n",
        "\n",
        "    if entry == 2:\n",
        "        name = input(\"Введите имя студента: \")\n",
        "\n",
        "        print(student_average_score(list_of_students[name]))\n",
        "\n",
        "    if entry == 3:\n",
        "        for k in list_of_students.keys( ):\n",
        "            print(k, student_average_score(list_of_students[k]))\n",
        "\n",
        "    if entry == 4:\n",
        "        name = input(\"Введите имя студента: \")\n",
        "\n",
        "        print(name, *list_of_students[name], \"средний балл:\", student_average_score(list_of_students[name]))\n",
        "\n",
        "    flag = True if input(\"Продолжить? да/нет: \") == \"да\" else False"
      ],
      "metadata": {
        "id": "cvhlltVbdyoL",
        "colab": {
          "base_uri": "https://localhost:8080/"
        },
        "outputId": "0cc0a71e-a992-4726-b5f3-e19c33ee65e7"
      },
      "execution_count": null,
      "outputs": [
        {
          "name": "stdout",
          "output_type": "stream",
          "text": [
            "Что бы вы хотели сделать?\n",
            "Добавить студента и его оценки - 1\n",
            "Посчитать средний балл студента - 2\n",
            "Показать список всех студентов с их средними баллами - 3\n",
            "Найти студента по имени и показать его оценки, средний балл - 4\n",
            "1\n",
            "Введите имя студента: дал\n",
            "Введите оценки через пробел: 2 3 4\n",
            "дал 2 3 4\n",
            "Продолжить? да/нет: да\n",
            "Что бы вы хотели сделать?\n",
            "Добавить студента и его оценки - 1\n",
            "Посчитать средний балл студента - 2\n",
            "Показать список всех студентов с их средними баллами - 3\n",
            "Найти студента по имени и показать его оценки, средний балл - 4\n",
            "1\n",
            "Введите имя студента: ушёл\n",
            "Введите оценки через пробел: 3 4 5 6\n",
            "ушёл 3 4 5 6\n",
            "Продолжить? да/нет: да\n",
            "Что бы вы хотели сделать?\n",
            "Добавить студента и его оценки - 1\n",
            "Посчитать средний балл студента - 2\n",
            "Показать список всех студентов с их средними баллами - 3\n",
            "Найти студента по имени и показать его оценки, средний балл - 4\n",
            "2\n",
            "Введите имя студента: дал\n",
            "3.0\n",
            "Продолжить? да/нет: да\n",
            "Что бы вы хотели сделать?\n",
            "Добавить студента и его оценки - 1\n",
            "Посчитать средний балл студента - 2\n",
            "Показать список всех студентов с их средними баллами - 3\n",
            "Найти студента по имени и показать его оценки, средний балл - 4\n",
            "2\n",
            "Введите имя студента: ушёл\n",
            "4.5\n",
            "Продолжить? да/нет: да\n",
            "Что бы вы хотели сделать?\n",
            "Добавить студента и его оценки - 1\n",
            "Посчитать средний балл студента - 2\n",
            "Показать список всех студентов с их средними баллами - 3\n",
            "Найти студента по имени и показать его оценки, средний балл - 4\n",
            "3\n",
            "дал 3.0\n",
            "ушёл 4.5\n",
            "Продолжить? да/нет: да\n",
            "Что бы вы хотели сделать?\n",
            "Добавить студента и его оценки - 1\n",
            "Посчитать средний балл студента - 2\n",
            "Показать список всех студентов с их средними баллами - 3\n",
            "Найти студента по имени и показать его оценки, средний балл - 4\n",
            "4\n",
            "Введите имя студента: дал\n",
            "дал 2 3 4 средний балл: 3.0\n",
            "Продолжить? да/нет: да\n",
            "Что бы вы хотели сделать?\n",
            "Добавить студента и его оценки - 1\n",
            "Посчитать средний балл студента - 2\n",
            "Показать список всех студентов с их средними баллами - 3\n",
            "Найти студента по имени и показать его оценки, средний балл - 4\n",
            "4\n",
            "Введите имя студента: ушёл\n",
            "ушёл 3 4 5 6 средний балл: 4.5\n",
            "Продолжить? да/нет: нет\n"
          ]
        }
      ]
    },
    {
      "cell_type": "markdown",
      "source": [
        "# Задание 7\n",
        "\n",
        "\n",
        "**Задача:**\n",
        "\n",
        "Создайте приложение-викторину с командной строкой, которое задает пользователям вопросы по различным темам и отслеживает их результаты.\n",
        "\n",
        "Ключевые особенности:\n",
        "\n",
        "*   Хранение данных о вопросах и ответах на них, а также баллов за каждый вопрос\n",
        "*   Реализуйте функцию для представления вопросов, принятия ответов пользователей и предоставления обратной связи о том, являются ли ответы правильными или неправильными.\n",
        "*  После завершения викторины отобразите общий балл пользователя из числа ответов на вопросы.\n",
        "*  Реализуйте функцию добавления нового вопроса\n",
        "*  Реализуйте функцию перемешивания вопросов, для отображения случайного вопроса\n"
      ],
      "metadata": {
        "id": "iQ8Z-7PYgu1_"
      }
    },
    {
      "cell_type": "code",
      "source": [
        "import random\n",
        "\n",
        "questions_and_points = {1: [\"Какого цвета небо?\", \"голубое\", 2], 2: [\"2 + 2?\", \"4\", 3]}\n",
        "guest_ball = 0\n",
        "\n",
        "print(\"Это игра - викторина\")\n",
        "flag = True\n",
        "while flag:\n",
        "    print(\"Начать игру - 1\")\n",
        "    print(\"Добавить вопрос - 2\")\n",
        "    print(\"Перемешать вопросы - 3\")\n",
        "\n",
        "    command = int(input( ))\n",
        "\n",
        "    if command == 1:\n",
        "        print(\"Викторина началась!\")\n",
        "        for k in questions_and_points.keys( ):\n",
        "            print(questions_and_points[k][0])\n",
        "\n",
        "            answer = input( )\n",
        "\n",
        "            if answer == questions_and_points[k][1]:\n",
        "                guest_ball += questions_and_points[k][2]\n",
        "\n",
        "                print(\"Ваш общий балл повысился на:\", questions_and_points[k][2])\n",
        "\n",
        "            else:\n",
        "                print(\"Ответ неверный\")\n",
        "\n",
        "        print(\"Викторина завершена, ваш общий балл:\", guest_ball)\n",
        "\n",
        "        guest_ball = 0\n",
        "\n",
        "    if command == 2:\n",
        "        questions = input(\"Введите вопрос: \")\n",
        "        questions_answer = input(\"Введите ответ: \")\n",
        "        questions_ball = input(\"Сколько баллов будет начисляться за правильный ответ? (напишите цифру или число)\")\n",
        "        questions_and_points[questions] = [questions, questions_answer, int(questions_ball)]\n",
        "\n",
        "        print(\"Вопрос добавлен\")\n",
        "\n",
        "    if command == 3:\n",
        "        keys = random.sample(list(questions_and_points.keys()), len(questions_and_points))\n",
        "        questions_and_points = {k: questions_and_points[k] for k in keys}\n",
        "\n",
        "        print(\"Вопросы перемешаны\")\n",
        "\n",
        "    flag = True if input(\"Выбрать задачу? да/нет: \") == \"да\" else False"
      ],
      "metadata": {
        "id": "DhxyYwHwh2V4",
        "colab": {
          "base_uri": "https://localhost:8080/"
        },
        "outputId": "fc35e45e-f430-46ce-ce81-4a31a42bb60c"
      },
      "execution_count": null,
      "outputs": [
        {
          "name": "stdout",
          "output_type": "stream",
          "text": [
            "Это игра - викторина\n",
            "Начать игру - 1\n",
            "Добавить вопрос - 2\n",
            "Перемешать вопросы - 3\n",
            "1\n",
            "Викторина началась!\n",
            "Какого цвета небо?\n",
            "голубое\n",
            "Ваш общий балл повысился на: 2\n",
            "2 + 2?\n",
            "4\n",
            "Ваш общий балл повысился на: 3\n",
            "Викторина завершена, ваш общий балл: 5\n",
            "Выбрать задачу? да/нет: да\n",
            "Начать игру - 1\n",
            "Добавить вопрос - 2\n",
            "Перемешать вопросы - 3\n",
            "2\n",
            "Введите вопрос: Как дела?\n",
            "Введите ответ: норм\n",
            "Сколько баллов будет начисляться за правильный ответ? (напишите цифру или число)100500\n",
            "Вопрос добавлен\n",
            "Выбрать задачу? да/нет: да\n",
            "Начать игру - 1\n",
            "Добавить вопрос - 2\n",
            "Перемешать вопросы - 3\n",
            "1\n",
            "Викторина началась!\n",
            "Какого цвета небо?\n",
            "голубое\n",
            "Ваш общий балл повысился на: 2\n",
            "2 + 2?\n",
            "3\n",
            "Ответ неверный\n",
            "Как дела?\n",
            "норм\n",
            "Ваш общий балл повысился на: 100500\n",
            "Викторина завершена, ваш общий балл: 100502\n",
            "Выбрать задачу? да/нет: да\n",
            "Начать игру - 1\n",
            "Добавить вопрос - 2\n",
            "Перемешать вопросы - 3\n",
            "3\n",
            "Вопросы перемешаны\n",
            "Выбрать задачу? да/нет: да\n",
            "Начать игру - 1\n",
            "Добавить вопрос - 2\n",
            "Перемешать вопросы - 3\n",
            "1\n",
            "Викторина началась!\n",
            "Как дела?\n",
            "норм\n",
            "Ваш общий балл повысился на: 100500\n",
            "2 + 2?\n",
            "4\n",
            "Ваш общий балл повысился на: 3\n",
            "Какого цвета небо?\n",
            "голубое\n",
            "Ваш общий балл повысился на: 2\n",
            "Викторина завершена, ваш общий балл: 100505\n",
            "Выбрать задачу? да/нет: нет\n"
          ]
        }
      ]
    }
  ]
}