{
  "nbformat": 4,
  "nbformat_minor": 0,
  "metadata": {
    "colab": {
      "provenance": [],
      "collapsed_sections": [
        "H4DrYnJjADuZ",
        "ih7iPlYfB7lL",
        "F7mRVsZjCXk0"
      ]
    },
    "kernelspec": {
      "name": "python3",
      "display_name": "Python 3"
    },
    "language_info": {
      "name": "python"
    }
  },
  "cells": [
    {
      "cell_type": "markdown",
      "source": [
        "**ФИО:**"
      ],
      "metadata": {
        "id": "GEsFKJm-ABFp"
      }
    },
    {
      "cell_type": "code",
      "execution_count": null,
      "metadata": {
        "id": "wZMLYG_G_-19"
      },
      "outputs": [],
      "source": [
        "Денисов Роман Николаевич"
      ]
    },
    {
      "cell_type": "markdown",
      "source": [
        "# Задание 1"
      ],
      "metadata": {
        "id": "H4DrYnJjADuZ"
      }
    },
    {
      "cell_type": "markdown",
      "source": [
        "**Описание:** Создайте иерархию классов для разных типов сотрудников в компании. Реализуйте родительский класс Employee и дочерние классы Manager и Developer. Каждый класс должен иметь метод для расчета зарплаты на основе различных критериев класса.\n",
        "\n",
        "\n",
        "Отрабатываемый принцип: Наследование\n",
        "\n"
      ],
      "metadata": {
        "id": "C17FWep-AF4a"
      }
    },
    {
      "cell_type": "code",
      "source": [
        "class Employee:\n",
        "    salary_per_day = 0\n",
        "\n",
        "    def __init__(self, name, first_name,):\n",
        "        self.name = name\n",
        "        self.first_name = first_name\n",
        "        self.salary_per_day = self.salary_per_day\n",
        "\n",
        "    def salary(self, days):\n",
        "        salary = f'Для данного работника зарплата за {days} дней составляет: {days * self.salary_per_day}'\n",
        "        return salary\n",
        "\n",
        "\n",
        "class Manager(Employee):\n",
        "    salary_per_day = 2000\n",
        "\n",
        "    def __init__(self, name, first_name, prof):\n",
        "        self.prof = prof\n",
        "        self.salary_per_day = self.salary_per_day\n",
        "        super().__init__(name, first_name)\n",
        "\n",
        "\n",
        "class Developer(Employee):\n",
        "    salary_per_day = 5000\n",
        "\n",
        "    def __init__(self, name, first_name, prof):\n",
        "        self.prof = prof\n",
        "        self.salary_per_day = self.salary_per_day\n",
        "        super().__init__(name, first_name)\n",
        "\n",
        "\n",
        "manager = Manager('Илья', 'Радионовкин', 'Manager')\n",
        "print(manager.salary(23))\n",
        "\n",
        "developer = Developer('Борис', 'Коровкин', 'Developer')\n",
        "print(manager.salary(28))"
      ],
      "metadata": {
        "id": "aexGXzqCAFH7",
        "colab": {
          "base_uri": "https://localhost:8080/"
        },
        "outputId": "a875114b-289e-4d67-c0b5-9dacd61dc5bc"
      },
      "execution_count": null,
      "outputs": [
        {
          "output_type": "stream",
          "name": "stdout",
          "text": [
            "Для данного работника зарплата за 23 дней составляет: 46000\n",
            "Для данного работника зарплата за 28 дней составляет: 56000\n"
          ]
        }
      ]
    },
    {
      "cell_type": "markdown",
      "source": [
        "# Задание 2"
      ],
      "metadata": {
        "id": "ERAi0TG5BI6v"
      }
    },
    {
      "cell_type": "markdown",
      "source": [
        "**Описание:** Создайте иерархию классов для различных типов транспортных средств (Необходим один родительский класс и 3 дочерних). Реализуйте метод, который позволяет каждому транспортному средству возвращать собственное описание (Метод в каждом классе должен иметь одинаковое название). Продемонстрируйте вызов данного метода для каждого транспортного средства.\n",
        "\n",
        "\n",
        "Отрабатываемый принцип: Полиморфизм"
      ],
      "metadata": {
        "id": "sJ3k7ZcgBK87"
      }
    },
    {
      "cell_type": "code",
      "source": [
        "class Machine:\n",
        "    def __init__(self, model, brand):\n",
        "        self.model = model\n",
        "        self.brand = brand\n",
        "\n",
        "    def description(self):\n",
        "        print(f'''\n",
        "        Полное описание:\n",
        "\n",
        "        Марка автомобиля: {self.brand}\n",
        "        Модель: {self.model}''')\n",
        "\n",
        "\n",
        "class Trucks(Machine):\n",
        "    def __init__(self, model, brand, self_weight, max_weight):\n",
        "        self.self_weight = self_weight\n",
        "        self.max_weight = max_weight\n",
        "        super().__init__(model, brand)\n",
        "\n",
        "    def description_trucks(self):\n",
        "        super().description()\n",
        "\n",
        "        print(f'''        Собственный вес: {self.self_weight}\n",
        "        Максимальная грузоподъёмность вместе с собственным весом: {self.max_weight}''')\n",
        "\n",
        "\n",
        "class Buses(Machine):\n",
        "    def __init__(self, model, brand, max_num_pass, num_pass_seats):\n",
        "        self.max_num_pass = max_num_pass\n",
        "        self.num_pass_seats = num_pass_seats\n",
        "        super().__init__(model, brand)\n",
        "\n",
        "    def description_buses(self):\n",
        "        super().description()\n",
        "\n",
        "        print(f'''        Количество пассажирских мест: {self.num_pass_seats}\n",
        "        Максимально количество пассажиров в салоне: {self.max_num_pass}\n",
        "        ''')\n",
        "\n",
        "\n",
        "class Passenger_cars(Machine):\n",
        "    def __init__(self, model, brand, num_doors, body_type):\n",
        "        self.num_doors = num_doors\n",
        "        self.body_type = body_type\n",
        "        super().__init__(model, brand)\n",
        "\n",
        "    def description_pass_cars(self):\n",
        "        super().description()\n",
        "\n",
        "        print(f'''        Колличество дверей: {self.num_doors}\n",
        "        Тип кузова: {self.body_type}\n",
        "        ''')\n",
        "\n",
        "\n",
        "truck = Trucks('969', 'ЛуАЗ', '3 тонны', '6 тонн')\n",
        "bus = Buses('S 415 GT-HD', 'Setra', 55, 51)\n",
        "car = Passenger_cars('Camry', 'Toyota', 4, 'седан')\n",
        "\n",
        "truck.description_trucks()\n",
        "bus.description_buses()\n",
        "car.description_pass_cars()"
      ],
      "metadata": {
        "id": "WOFOZQmDBKf4",
        "colab": {
          "base_uri": "https://localhost:8080/"
        },
        "outputId": "92a476e0-16ea-4fe6-806a-2547773ce941"
      },
      "execution_count": null,
      "outputs": [
        {
          "output_type": "stream",
          "name": "stdout",
          "text": [
            "\n",
            "        Полное описание:\n",
            "\n",
            "        Марка автомобиля: ЛуАЗ\n",
            "        Модель: 969\n",
            "        Собственный вес: 3 тонны\n",
            "        Максимальная грузоподъёмность вместе с собственным весом: 6 тонн\n",
            "\n",
            "        Полное описание:\n",
            "\n",
            "        Марка автомобиля: Setra\n",
            "        Модель: S 415 GT-HD\n",
            "        Количество пассажирских мест: 51\n",
            "        Максимально количество пассажиров в салоне: 55\n",
            "        \n",
            "\n",
            "        Полное описание:\n",
            "\n",
            "        Марка автомобиля: Toyota\n",
            "        Модель: Camry\n",
            "        Колличество дверей: 4\n",
            "        Тип кузова: седан\n",
            "        \n"
          ]
        }
      ]
    },
    {
      "cell_type": "markdown",
      "source": [
        "# Задание 3"
      ],
      "metadata": {
        "id": "7E_SJXMJBvD4"
      }
    },
    {
      "cell_type": "markdown",
      "source": [
        "Онлайн-магазин:\n",
        "- Создайте модель для онлайн-магазина с классами Product, Order, Customer, и ShoppingCart.\n",
        "- Product включает информацию о цене, наличии на складе и категории товара.\n",
        "Order обрабатывает процесс покупки, включая расчет цены с учетом скидок и налогов.\n",
        "- Customer управляет информацией о пользователе и его истории заказов.\n",
        "- ShoppingCart позволяет добавлять, удалять и обновлять количество товаров перед оформлением заказа.\n"
      ],
      "metadata": {
        "id": "dd1mwKj_BxHa"
      }
    },
    {
      "cell_type": "code",
      "source": [],
      "metadata": {
        "id": "wkCcv_K-Bwdv"
      },
      "execution_count": null,
      "outputs": []
    },
    {
      "cell_type": "markdown",
      "source": [
        "# Задание 4"
      ],
      "metadata": {
        "id": "ih7iPlYfB7lL"
      }
    },
    {
      "cell_type": "markdown",
      "source": [
        "Симулятор космического корабля:\n",
        "- Создайте симулятор управления космическим кораблем с классами SpaceShip, CrewMember, и Mission.\n",
        "- SpaceShip имеет атрибуты для управления топливом, состоянием корпуса, и текущей скоростью.\n",
        "- CrewMember контролирует здоровье, навыки, и роли в команде (например, пилот, инженер).\n",
        "- Mission определяет цели, ресурсы, и возможные события (например, аварии, встречи с астероидами)."
      ],
      "metadata": {
        "id": "zLwqVCbpCBvc"
      }
    },
    {
      "cell_type": "code",
      "source": [],
      "metadata": {
        "id": "4NyrOOy8B9ED"
      },
      "execution_count": null,
      "outputs": []
    },
    {
      "cell_type": "markdown",
      "source": [
        "# Дополнительно:"
      ],
      "metadata": {
        "id": "F7mRVsZjCXk0"
      }
    },
    {
      "cell_type": "markdown",
      "source": [
        "**Описание:** создайте консольную версию игры крестики-нолики, используя классы"
      ],
      "metadata": {
        "id": "X4Lkf86UCc1h"
      }
    },
    {
      "cell_type": "code",
      "source": [],
      "metadata": {
        "id": "x9OxpNsyCcUo"
      },
      "execution_count": null,
      "outputs": []
    }
  ]
}