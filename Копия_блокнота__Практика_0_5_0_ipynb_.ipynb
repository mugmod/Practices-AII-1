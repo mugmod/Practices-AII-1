{
  "nbformat": 4,
  "nbformat_minor": 0,
  "metadata": {
    "colab": {
      "provenance": []
    },
    "kernelspec": {
      "name": "python3",
      "display_name": "Python 3"
    },
    "language_info": {
      "name": "python"
    }
  },
  "cells": [
    {
      "cell_type": "markdown",
      "source": [
        "ФИО:"
      ],
      "metadata": {
        "id": "Bu5gIJfHNPHw"
      }
    },
    {
      "cell_type": "code",
      "execution_count": null,
      "metadata": {
        "id": "CbHI8c7cM9Eg"
      },
      "outputs": [],
      "source": [
        "Денисов Роман Николаевич"
      ]
    },
    {
      "cell_type": "markdown",
      "source": [
        "# **Задание 1**"
      ],
      "metadata": {
        "id": "VrNrBpmocGRd"
      }
    },
    {
      "cell_type": "markdown",
      "source": [
        "\n",
        "\n",
        "Дан словарь, содержащий имена и возраст людей, напишите программу выводящую возраст человека по имени\n",
        "\n",
        "Дано:\n",
        "\n",
        "```\n",
        "{\"Alice\": 25, \"Bob\": 30, \"Charlie\": 35}\n",
        "```\n",
        "\n",
        "Вввод:\n",
        "\n",
        "\n",
        "```\n",
        "Alice\n",
        "```\n",
        "\n",
        "Вывод:\n",
        "\n",
        "\n",
        "```\n",
        "Alice 25\n",
        "```\n"
      ],
      "metadata": {
        "id": "XhV1bnm1bR2h"
      }
    },
    {
      "cell_type": "code",
      "source": [
        "my_dict = {\"Alice\": 25, \"Bob\": 30, \"Charlie\": 35}\n",
        "name = input()\n",
        "for k,v in my_dict.items():\n",
        "  if k == name:\n",
        "    print(k,v)"
      ],
      "metadata": {
        "id": "PElJj6DvsgjD",
        "colab": {
          "base_uri": "https://localhost:8080/"
        },
        "outputId": "a77ec27a-7202-4303-b683-c4355be8d580"
      },
      "execution_count": null,
      "outputs": [
        {
          "output_type": "stream",
          "name": "stdout",
          "text": [
            "Alice\n",
            "Alice 25\n"
          ]
        }
      ]
    },
    {
      "cell_type": "markdown",
      "source": [
        "# **Задание 2**\n"
      ],
      "metadata": {
        "id": "lpjJz-_YcJ-t"
      }
    },
    {
      "cell_type": "markdown",
      "source": [
        "\n",
        "\n",
        "Дан список, состоящий из целых чисел, необходимо написать функцию считающую сумму всех положительных четных чисел списка\n",
        "\n",
        "Ввод:\n",
        "\n",
        "```\n",
        "1, 2, 3, 4, 5, 6, 7, 8, 9\n",
        "```\n",
        "\n",
        "Вывод:\n",
        "\n",
        "\n",
        "```\n",
        "20\n",
        "```\n",
        "\n",
        "***Запрещено:***\n",
        "\n",
        "*   Использование готовых функций для суммирования чисел\n"
      ],
      "metadata": {
        "id": "tMEsAB4rUiWW"
      }
    },
    {
      "cell_type": "code",
      "source": [
        "numbers = input().split(\", \")\n",
        "numbers = [int(num) for num in numbers]\n",
        "chet_num = []\n",
        "for x in numbers:\n",
        "  if x % 2 == 0 and x > 0:\n",
        "    chet_num.append(x)\n",
        "summa = 0\n",
        "for j in chet_num:\n",
        "  summa += j\n",
        "print(summa)"
      ],
      "metadata": {
        "id": "wDNUFLeqNQS_",
        "colab": {
          "base_uri": "https://localhost:8080/"
        },
        "outputId": "1c08e36f-f683-4916-e3ab-041520d9c035"
      },
      "execution_count": null,
      "outputs": [
        {
          "output_type": "stream",
          "name": "stdout",
          "text": [
            "1, 2, 3, 4, 5, 6, 7, 8, 9\n",
            "20\n"
          ]
        }
      ]
    },
    {
      "cell_type": "markdown",
      "source": [
        "# **Задание 3**"
      ],
      "metadata": {
        "id": "WT_v-vz1dUZJ"
      }
    },
    {
      "cell_type": "markdown",
      "source": [
        "Дан словарь, содержащий название фрукта и его цвет, выведите список всех желтых фруктов\n",
        "\n",
        "\n",
        "Дано:\n",
        "\n",
        "```\n",
        "fruits_and_colors = {\n",
        "    \"apple\": \"red\",\n",
        "    \"banana\": \"yellow\",\n",
        "    \"mango\": \"yellow\",\n",
        "    \"orange\": \"orange\",\n",
        "    \"lemon\": \"yellow\",\n",
        "    \"grape\": \"purple\"\n",
        "}\n",
        "```\n",
        "\n",
        "Вывод:\n",
        "\n",
        "\n",
        "```\n",
        "Yellow fruits:\n",
        "banana\n",
        "lemon\n",
        "mango\n",
        "```\n",
        "\n"
      ],
      "metadata": {
        "id": "ZI5Xeh2DdXgF"
      }
    },
    {
      "cell_type": "code",
      "source": [
        "fruits_and_colors = {\n",
        "    \"apple\": \"red\",\n",
        "    \"banana\": \"yellow\",\n",
        "    \"mango\": \"yellow\",\n",
        "    \"orange\": \"orange\",\n",
        "    \"lemon\": \"yellow\",\n",
        "    \"grape\": \"purple\"\n",
        "}\n",
        "yellow_fruits = []\n",
        "print(\"Yellow fruits:\")\n",
        "for k,v in fruits_and_colors.items():\n",
        "  if v == \"yellow\":\n",
        "    print(k)"
      ],
      "metadata": {
        "id": "aNzFTkhKdkTG",
        "colab": {
          "base_uri": "https://localhost:8080/"
        },
        "outputId": "c400f578-e0ce-4631-daf1-01016269d95e"
      },
      "execution_count": null,
      "outputs": [
        {
          "output_type": "stream",
          "name": "stdout",
          "text": [
            "Yellow fruits:\n",
            "banana\n",
            "mango\n",
            "lemon\n"
          ]
        }
      ]
    },
    {
      "cell_type": "markdown",
      "source": [
        "# **Задание 4**\n"
      ],
      "metadata": {
        "id": "iHtMGt2icM7w"
      }
    },
    {
      "cell_type": "markdown",
      "source": [
        "\n",
        "\n",
        "Дан словарь, необходимо написать функцию меняющую ключ и значение местами\n",
        "\n",
        "Дано:\n",
        "\n",
        "\n",
        "```\n",
        "{\"a\": 1, \"b\": 2, \"c\": 3}\n",
        "```\n",
        "\n",
        "Вывод:\n",
        "\n",
        "```\n",
        "{1: 'a', 2: 'b', 3: 'c'}\n",
        "```\n",
        "\n"
      ],
      "metadata": {
        "id": "rS3THsnBQ_EB"
      }
    },
    {
      "cell_type": "code",
      "source": [
        "my_dict = {\"a\": 1, \"b\": 2, \"c\": 3}\n",
        "my_dict1 = {}\n",
        "for k,v in my_dict.items():\n",
        "  my_dict1[v] = k\n",
        "print(my_dict1)"
      ],
      "metadata": {
        "id": "MNRusyLDcQ59",
        "colab": {
          "base_uri": "https://localhost:8080/"
        },
        "outputId": "7b396cd4-dc00-4a3a-953a-bcabc2bf98dd"
      },
      "execution_count": null,
      "outputs": [
        {
          "output_type": "stream",
          "name": "stdout",
          "text": [
            "{1: 'a', 2: 'b', 3: 'c'}\n"
          ]
        }
      ]
    },
    {
      "cell_type": "markdown",
      "source": [
        "# **Задание 5**"
      ],
      "metadata": {
        "id": "x6ff5nd0cUxD"
      }
    },
    {
      "cell_type": "markdown",
      "source": [
        "Дан список слов, неограниченной длинны, сформируйте словарь, где в качестве ключа будет слово, а в качестве значения количество символов\n",
        "\n",
        "**Критерии**\n",
        "\n",
        "\n",
        "*   Словарь необходимо отсортировать по убыванию количества элементов в списке.\n",
        "*   Подсчет элементов должен быть реализован в отдельной функции\n",
        "*   Сортировка пары `ключ:значение` должна быть реализована также в виде отдельной функции\n",
        "\n",
        "\n",
        "\n",
        "\n",
        "Дано:\n",
        "```\n",
        "['apple','banana','orange','apple','apple','banana']\n",
        "```\n",
        "\n",
        "\n",
        "Вывод:\n",
        "```\n",
        "{'apple':3, 'banana': 2, 'orange': 1}\n",
        "```\n",
        "\n",
        "***Запрещено:***\n",
        "\n",
        "*   Использование готовых функций для сортировки\n",
        "*   Использование готовых функций для подсчета элементов\n",
        "\n"
      ],
      "metadata": {
        "id": "ypQNHOG4NQz3"
      }
    },
    {
      "cell_type": "code",
      "source": [
        "def F(n):\n",
        "  my_dict = {}\n",
        "  for x in n:\n",
        "    if x in my_dict.keys():\n",
        "      my_dict[x] += 1\n",
        "    else:\n",
        "      my_dict[x] = 1\n",
        "  return my_dict\n",
        "\n",
        "def find_max(z):\n",
        "  max_key = None\n",
        "  max_value = 0\n",
        "  for key, value in z.items():\n",
        "    if value > max_value:\n",
        "      max_key = key\n",
        "      max_value = value\n",
        "  return max_value, max_key\n",
        "\n",
        "def sort(z):\n",
        "  sort = {}\n",
        "  while z != {}:\n",
        "    max_value, max_key = find_max(z)\n",
        "    sort[max_key] = max_value\n",
        "    del z[max_key]\n",
        "  return sort\n",
        "\n",
        "listik = ['apple','banana','orange','apple','apple','banana']\n",
        "dict1 = F(listik)\n",
        "print(sort(dict1))\n"
      ],
      "metadata": {
        "id": "J10PjdVQUbyq",
        "colab": {
          "base_uri": "https://localhost:8080/"
        },
        "outputId": "2db33beb-4942-4dd2-886c-b5ad935425d4"
      },
      "execution_count": null,
      "outputs": [
        {
          "output_type": "stream",
          "name": "stdout",
          "text": [
            "{'apple': 3, 'banana': 2, 'orange': 1}\n"
          ]
        }
      ]
    },
    {
      "cell_type": "markdown",
      "source": [
        "# **Задание 6**"
      ],
      "metadata": {
        "id": "d7fDUr2WcY_G"
      }
    },
    {
      "cell_type": "markdown",
      "source": [
        "Дан словарь, содержащий информацию о людях, необходимо:\n",
        "\n",
        "\n",
        "\n",
        "*   Вывести всех людей старше 30 лет\n",
        "*   Вывести список городов и количество людей из словаря проживающих в них\n",
        "*   Вывести список профессий и список людей для каждой профессии\n",
        "\n",
        "**Критерии**\n",
        "\n",
        "Каждый из пунктов необходимо реализовать в виде функции\n",
        "\n"
      ],
      "metadata": {
        "id": "m11qdVhSWBi7"
      }
    },
    {
      "cell_type": "code",
      "source": [
        "def people_30(people_info):\n",
        "\n",
        "  for k in people_info.keys( ):\n",
        "    if people_info[k][\"age\"] > 30:\n",
        "      print(k)\n",
        "\n",
        "def city(people_info):\n",
        "  res = { }\n",
        "  for k in people_info.keys( ):\n",
        "    res[people_info[k][\"city\"]] = 0\n",
        "\n",
        "  for kk in people_info.keys( ):\n",
        "    if people_info[kk][\"city\"] in res:\n",
        "      res[people_info[kk][\"city\"]] += 1\n",
        "\n",
        "  for kkk in res:\n",
        "    print(kkk, res[kkk])\n",
        "\n",
        "\n",
        "def prof_people(people_info):\n",
        "  res = { }\n",
        "  for k in people_info.keys( ):\n",
        "    res[people_info[k][\"occupation\"]] = [ ]\n",
        "\n",
        "  for kk in people_info.keys( ):\n",
        "    if people_info[kk][\"occupation\"] in res:\n",
        "      res[people_info[kk][\"occupation\"]].append(kk)\n",
        "\n",
        "  for kkk in res:\n",
        "    print(kkk, \":\", *res[kkk])\n",
        "\n",
        "people_info = {\n",
        "    \"Alice\": {\"age\": 25, \"city\": \"New York\", \"occupation\": \"Engineer\"},\n",
        "    \"Bob\": {\"age\": 30, \"city\": \"Los Angeles\", \"occupation\": \"Designer\"},\n",
        "    \"Charlie\": {\"age\": 35, \"city\": \"Chicago\", \"occupation\": \"Teacher\"},\n",
        "    \"Diana\": {\"age\": 28, \"city\": \"Miami\", \"occupation\": \"Doctor\"},\n",
        "    \"Ethan\": {\"age\": 40, \"city\": \"Seattle\", \"occupation\": \"Chef\"},\n",
        "    \"Frank\": {\"age\": 32, \"city\": \"Atlanta\", \"occupation\": \"Lawyer\"},\n",
        "    \"Gabriella\": {\"age\": 29, \"city\": \"San Francisco\", \"occupation\": \"Software Engineer\"},\n",
        "    \"Harrison\": {\"age\": 38, \"city\": \"Denver\", \"occupation\": \"Architect\"},\n",
        "    \"Isabella\": {\"age\": 26, \"city\": \"Washington D.C.\", \"occupation\": \"Journalist\"},\n",
        "    \"Julian\": {\"age\": 42, \"city\": \"Miami\", \"occupation\": \"Musician\"},\n",
        "    \"Kate\": {\"age\": 31, \"city\": \"Philadelphia\", \"occupation\": \"Nurse\"},\n",
        "    \"Lucas\": {\"age\": 36, \"city\": \"Nashville\", \"occupation\": \"Businessman\"},\n",
        "    \"Mia\": {\"age\": 27, \"city\": \"Atlanta\", \"occupation\": \"Artist\"},\n",
        "    \"Natalie\": {\"age\": 39, \"city\": \"Portland\", \"occupation\": \"Writer\"},\n",
        "    \"Oliver\": {\"age\": 44, \"city\": \"Minneapolis\", \"occupation\": \"Professor\"},\n",
        "    \"Penelope\": {\"age\": 33, \"city\": \"San Diego\", \"occupation\": \"Marketing Manager\"},\n",
        "    \"Quincy\": {\"age\": 41, \"city\": \"Nashville\", \"occupation\": \"Singer\"},\n",
        "    \"Rachel\": {\"age\": 34, \"city\": \"Cleveland\", \"occupation\": \"Teacher\"},\n",
        "    \"Sophia\": {\"age\": 29, \"city\": \"Nashville\", \"occupation\": \"Engineer\"},\n",
        "    \"Tessa\": {\"age\": 37, \"city\": \"Miami\", \"occupation\": \"Lawyer\"}\n",
        "}\n",
        "\n",
        "people_30(people_info)\n",
        "print(\"---------------------\")\n",
        "city(people_info)\n",
        "print(\"---------------------\")\n",
        "prof_people(people_info)"
      ],
      "metadata": {
        "id": "lSNtB39OWtFl",
        "colab": {
          "base_uri": "https://localhost:8080/"
        },
        "outputId": "46f0876d-83fb-4605-90bd-a294a3315ab9"
      },
      "execution_count": null,
      "outputs": [
        {
          "output_type": "stream",
          "name": "stdout",
          "text": [
            "Charlie\n",
            "Ethan\n",
            "Frank\n",
            "Harrison\n",
            "Julian\n",
            "Kate\n",
            "Lucas\n",
            "Natalie\n",
            "Oliver\n",
            "Penelope\n",
            "Quincy\n",
            "Rachel\n",
            "Tessa\n",
            "---------------------\n",
            "New York 1\n",
            "Los Angeles 1\n",
            "Chicago 1\n",
            "Miami 3\n",
            "Seattle 1\n",
            "Atlanta 2\n",
            "San Francisco 1\n",
            "Denver 1\n",
            "Washington D.C. 1\n",
            "Philadelphia 1\n",
            "Nashville 3\n",
            "Portland 1\n",
            "Minneapolis 1\n",
            "San Diego 1\n",
            "Cleveland 1\n",
            "---------------------\n",
            "Engineer : Alice Sophia\n",
            "Designer : Bob\n",
            "Teacher : Charlie Rachel\n",
            "Doctor : Diana\n",
            "Chef : Ethan\n",
            "Lawyer : Frank Tessa\n",
            "Software Engineer : Gabriella\n",
            "Architect : Harrison\n",
            "Journalist : Isabella\n",
            "Musician : Julian\n",
            "Nurse : Kate\n",
            "Businessman : Lucas\n",
            "Artist : Mia\n",
            "Writer : Natalie\n",
            "Professor : Oliver\n",
            "Marketing Manager : Penelope\n",
            "Singer : Quincy\n"
          ]
        }
      ]
    },
    {
      "cell_type": "markdown",
      "source": [
        "# **Задание 7**"
      ],
      "metadata": {
        "id": "27IuB2YScezw"
      }
    },
    {
      "cell_type": "markdown",
      "source": [
        "Задание: Разработка системы отзывов о предметах\n",
        "\n",
        "Описание: Создать программу на Python для хранения и управления отзывами о предметах учебного курса. Программа должна позволять пользователям добавлять, просматривать и удалять отзывы, а также вычислять средний балл по заданному предмету.\n",
        "\n",
        "**Функционал:**\n",
        "\n",
        "*   Добавление отзыва и оценки:\n",
        "   *   Пользователь может ввести название предмета, оценку (от 1 до 5) и текст отзыва.\n",
        "   *   Отзывы должны храниться в структуре данных (например, словаре), где ключом будет название предмета, а значением - список отзывов (каждый отзыв может хранить оценку и комментарий).\n",
        "*   Просмотр отзывов и оценок:\n",
        "   *   Пользователь может запросить отзывы для указанного предмета.\n",
        "   *   Если для указанного предмета есть отзывы, программа должна отобразить список всех отзывов и соответствующих оценок.\n",
        "*   Удаление отзыва:\n",
        "   *   Пользователь может удалить отзыв по индексу. Необходимо заранее уведомить пользователя о том, какие отзывы доступны для удаления.\n",
        "   *   Программа должна обработать ситуацию, когда индекс введен неправильно.\n",
        "*   Вычисление среднего балла по предмету:\n",
        "   *   Пользователь может ввести название предмета, и программа должна вычислить и вывести средний балл по всем отзывам для этого предмета.\n",
        "   *   Если отзывов нет, программа должна сообщить об этом.\n",
        "\n",
        "\n",
        "**Критерии:**\n",
        "\n",
        "*   Код должен быть оформлен в виде функций\n",
        "*   Необходимо обрабатывать неправильный ввод пользователя\n",
        "*   Должны быть комментарии к функциям\n",
        "*   Присутсвует весь дополнительный функционал\n",
        "\n",
        "\n",
        "\n",
        "**Опционально:**\n",
        "\n",
        "Предлагаю вам добавить свои критерии оценки или вопросы, на которые должен ответить студент, чтобы оценить пару\n",
        "\n",
        "\n"
      ],
      "metadata": {
        "id": "Fd95-S9cYhct"
      }
    },
    {
      "cell_type": "code",
      "source": [
        "reviews = {\n",
        "    'математика': { },\n",
        "    'русский': { },\n",
        "    'программирование': { },\n",
        "    'физкультура': { },\n",
        "    'история': { }\n",
        "}\n",
        "\n",
        "while True:\n",
        "  print(\"1 - добавить отзыв\")\n",
        "  print(\"2 - посмотреть отзывы\")\n",
        "  print(\"3 - удалить отзыв\")\n",
        "  print(\"4 - средний балл по предмету\")\n",
        "  print(\"0 - закрыть программу\")\n",
        "  entry = input('Ввод: ')\n",
        "  print()\n",
        "\n",
        "  if entry == '0':\n",
        "    break\n",
        "\n",
        "\n",
        "  if entry == '1':\n",
        "    print('Список предметов: ')\n",
        "\n",
        "    for k in reviews.keys():\n",
        "      print(k)\n",
        "\n",
        "    print()\n",
        "\n",
        "    ab = input('Выберите предмет: ')\n",
        "\n",
        "    if ab in reviews.keys():\n",
        "      print('Какую оценку вы бы поставили? (от 1 до 5)')\n",
        "      print()\n",
        "\n",
        "      rev = input('Ввод: ')\n",
        "\n",
        "      while rev != '1' or '2' or '3' or'4' or '5':\n",
        "        print('от 1 до 5')\n",
        "\n",
        "      if 6 > rev > 0:\n",
        "        if reviews[ab][rev] in reviews[ab]:\n",
        "          reviews[ab][rev] += 1\n",
        "          print(\"Отзыв добавлен\")\n",
        "\n",
        "        else:\n",
        "          reviews[ab][rev] = 1\n",
        "          print(\"Отзыв добавлен\")\n",
        "\n",
        "\n",
        "  if entry == '2':\n",
        "    print('Список предметов: ')\n",
        "    for k in reviews.keys():\n",
        "      print(k)\n",
        "    print()\n",
        "    ab = input('Выберите предмет: ')\n",
        "    if ab in reviews.keys():\n",
        "      for i in reviews[ab]:\n",
        "        print(i)\n",
        "    else:\n",
        "      print('Такого предмета нет')\n",
        "\n",
        "    else:\n",
        "      print('Такого предмета нет')"
      ],
      "metadata": {
        "id": "kzucJrCUa0o7"
      },
      "execution_count": null,
      "outputs": []
    }
  ]
}