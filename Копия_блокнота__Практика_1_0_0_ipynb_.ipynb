{
  "nbformat": 4,
  "nbformat_minor": 0,
  "metadata": {
    "colab": {
      "provenance": []
    },
    "kernelspec": {
      "name": "python3",
      "display_name": "Python 3"
    },
    "language_info": {
      "name": "python"
    }
  },
  "cells": [
    {
      "cell_type": "markdown",
      "source": [
        "ФИО: Денисов Роман Николаевич\n"
      ],
      "metadata": {
        "id": "fLDS5f_mCnPa"
      }
    },
    {
      "cell_type": "markdown",
      "source": [
        "# Задание (совместное с преподавателем)\n",
        "\n",
        "\n"
      ],
      "metadata": {
        "id": "-CSHUbWzCqeM"
      }
    },
    {
      "cell_type": "markdown",
      "source": [
        "Напишите систему для учёта отпусков с возможностью узнавать, сколько дней отпуска осталось у того или иного сотрудника.\n",
        "Для этого создайте класс Employee со следующими методами:\n",
        "\n",
        "- Метод consume_vacation должен отвечать за списание дней отпуска.\n",
        "\n",
        "Единственный параметр этого метода (кроме self) — количество потраченных отпускных дней (целое число).\n",
        "\n",
        "При вызове метода consume_vacation соответствующее количество дней должно вычитаться из общего числа доступных отпускных дней сотрудника.\n",
        "\n",
        "Чтобы определить число доступных отпускных дней конкретного сотрудника, в классе опишите атрибут экземпляра |, который по умолчанию будет равен значению атрибута класса vacation_days, и используйте этот атрибут в работе метода.\n",
        "\n",
        "- Метод get_vacation_details должен возвращать остаток отпускных дней сотрудника в формате: ```Остаток отпускных дней: <число>.```\n",
        "\n",
        "\n",
        "Чтобы проверить работу программы:\n",
        "1. Создайте экземпляр класса Employee.\n",
        "2. Вызовите метод consume_vacation, указав подходящее значение аргумента, например 7.\n",
        "3. Вызовите метод get_vacation_details."
      ],
      "metadata": {
        "id": "a_flBjZOCwYz"
      }
    },
    {
      "cell_type": "code",
      "source": [
        "class Employee:\n",
        "    # количество дней отпуска, атрибут для каждого объекта класса\n",
        "    vacation_days = 28\n",
        "\n",
        "    def __init__(self, first_name, second_name):\n",
        "        self.first_name = first_name # имя\n",
        "        self.second_name = second_name # фамилия\n",
        "        self.remaining_vacation_days = self.vacation_days # количество доступных дней отпуска\n",
        "\n",
        "    # вычитание отгуляных дней\n",
        "    def consume_vacation(self, days):\n",
        "        self.remaining_vacation_days -= days\n",
        "\n",
        "    # Вывод информации об отпуске\n",
        "    def vacation_details(self):\n",
        "        return f\"Остаток отпускных дней: {self.remaining_vacation_days}.\"\n",
        "\n",
        "worker = Employee('Илья', 'Раскольников')\n",
        "\n",
        "print('='*20,'\\n',\n",
        "      worker.first_name,'\\n',\n",
        "      worker.second_name,'\\n',\n",
        "      worker.remaining_vacation_days,'\\n',\n",
        "      '='*20,'\\n'\n",
        "      )\n",
        "\n",
        "print('Илья Раскольников')\n",
        "worker.consume_vacation(5)\n",
        "\n",
        "print('='*20,'\\n',\n",
        "      worker.first_name,'\\n',\n",
        "      worker.second_name,'\\n',\n",
        "      worker.vacation_details(),'\\n',\n",
        "      '='*20,'\\n'\n",
        "      )"
      ],
      "metadata": {
        "id": "G4bUraN4CwBI",
        "colab": {
          "base_uri": "https://localhost:8080/"
        },
        "outputId": "064ab1ef-f7fa-40af-9596-320604313f3d"
      },
      "execution_count": null,
      "outputs": [
        {
          "output_type": "stream",
          "name": "stdout",
          "text": [
            "==================== \n",
            " Илья \n",
            " Раскольников \n",
            " 28 \n",
            " ==================== \n",
            "\n",
            "Илья Раскольников\n",
            "==================== \n",
            " Илья \n",
            " Раскольников \n",
            " Остаток отпускных дней: 23. \n",
            " ==================== \n",
            "\n"
          ]
        }
      ]
    },
    {
      "cell_type": "markdown",
      "source": [
        "# Задание 1"
      ],
      "metadata": {
        "id": "8XGka5GtEBK1"
      }
    },
    {
      "cell_type": "markdown",
      "source": [
        "Задание:\n",
        "\n",
        "Создайте класс с именем Rectangle который имеет:\n",
        "- Атрибуты ширины и высоты.\n",
        "- Метод расчета площади.\n",
        "- Метод расчета периметра.\n",
        "- Метод отображения размеров прямоугольника.\n",
        "\n",
        "Создайте экземпляр класса Rectangleи продемонстрируйте его функциональность."
      ],
      "metadata": {
        "id": "jQ4qqd8nEZBY"
      }
    },
    {
      "cell_type": "code",
      "source": [
        "class Rectangle:\n",
        "    def __init__(self, width, height):\n",
        "        self.height = height\n",
        "        self.widht = width\n",
        "\n",
        "\n",
        "    def square(self):\n",
        "        return self.height * self.widht\n",
        "\n",
        "\n",
        "    def perimeter(self):\n",
        "        return (self.height * 2) + (self.widht * 2)\n",
        "\n",
        "\n",
        "    def sizes(self):\n",
        "        return f'Высота: {self.height} \\nШирина: {self.widht}'\n",
        "\n",
        "rectangle = Rectangle(4, 5)\n",
        "\n",
        "print(f'''Площадь: {rectangle.square()}\n",
        "Периметр: {rectangle.perimeter()}\n",
        "{rectangle.sizes()}''')"
      ],
      "metadata": {
        "id": "dG6uNPqTEAvt",
        "colab": {
          "base_uri": "https://localhost:8080/"
        },
        "outputId": "5b772545-2493-43c5-a6f5-6775147cf87d"
      },
      "execution_count": null,
      "outputs": [
        {
          "output_type": "stream",
          "name": "stdout",
          "text": [
            "Площадь: 20\n",
            "Периметр: 18\n",
            "Высота: 5 \n",
            "Ширина: 4\n"
          ]
        }
      ]
    },
    {
      "cell_type": "markdown",
      "source": [
        "# Задание 2"
      ],
      "metadata": {
        "id": "0ct1u6lqE73j"
      }
    },
    {
      "cell_type": "markdown",
      "source": [
        "Задание: Создайте мини версию банковской системы:\n",
        "\n",
        "\n",
        "Инструкции:\n",
        "\n",
        "1. Создайте класс BankAccountсо следующими атрибутами:\n",
        "    - account_holder -  владелец счета\n",
        "    - balance - баланс счета\n",
        "\n",
        "2. Реализуйте следующие методы:\n",
        "    - Метод для инициализации владельца счета: имя владельца счета и установите начальный баланс на 0.\n",
        "    - deposit(amount): Добавьте указанную сумму к балансу.\n",
        "    - withdraw(amount): Вычесть указанную сумму из баланса, если средств достаточно; в противном случае вывести предупреждение.\n",
        "    - get_balance(): Возврат текущего баланса.\n",
        "\n",
        "\n",
        "Создайте объект класса и продемонстрируйте его возможности"
      ],
      "metadata": {
        "id": "FOpIpcLxE-WK"
      }
    },
    {
      "cell_type": "code",
      "source": [
        "class BankAccountсо:\n",
        "\n",
        "    def __init__(self, account_holder):\n",
        "        self.account_holder = account_holder\n",
        "        self.balance = 0\n",
        "\n",
        "\n",
        "    def deposit(self, amount):\n",
        "        self.balance += amount\n",
        "\n",
        "        return f'Вы положили на счёт {amount} рублей \\nВаш баланс равен: {self.balance}'\n",
        "\n",
        "\n",
        "    def withdraw(self, amount):\n",
        "        if (self.balance - amount) >= 0:\n",
        "            self.balance -= amount\n",
        "\n",
        "            return f'Вы списали со счёта {amount} \\nВаш баланс равен: {self.balance}'\n",
        "        else:\n",
        "            return \"На вашем балансе не хватает денег, чтобы списать полную сумму\"\n",
        "\n",
        "\n",
        "    def get_balance(self):\n",
        "        return f'Ваш текущий баланс равен: {self.balance}'\n",
        "\n",
        "\n",
        "owner = BankAccountсо(\"Илья Раскольников\")\n",
        "\n",
        "print(owner.get_balance(), \"\\n\",\n",
        "      owner.deposit(100), '\\n',\n",
        "      owner.withdraw(50), '\\n',\n",
        "      owner.withdraw(500))"
      ],
      "metadata": {
        "id": "WWXNIUrCE99W",
        "colab": {
          "base_uri": "https://localhost:8080/"
        },
        "outputId": "1652ea63-c303-4c2f-81ad-37f5599eb7a2"
      },
      "execution_count": null,
      "outputs": [
        {
          "output_type": "stream",
          "name": "stdout",
          "text": [
            "Ваш текущий баланс равен: 0 \n",
            " Вы положили на счёт 100 рублей \n",
            "Ваш баланс равен: 100 \n",
            " Вы списали со счёта 50 \n",
            "Ваш баланс равен: 50 \n",
            " На вашем балансе не хватает денег, чтобы списать полную сумму\n"
          ]
        }
      ]
    },
    {
      "cell_type": "markdown",
      "source": [
        "# Задание 3"
      ],
      "metadata": {
        "id": "C5DX5Uf2FfP6"
      }
    },
    {
      "cell_type": "markdown",
      "source": [
        "Возьмите код и задание (Рыцарь и дракон) из предыдущей практики и реализуйте его с применением классов"
      ],
      "metadata": {
        "id": "0cR-MYepFgz6"
      }
    },
    {
      "cell_type": "code",
      "source": [
        "import random\n",
        "\n",
        "\n",
        "class Personage:\n",
        "    def __init__(self, name):\n",
        "        armor = ['wooden armor', 'iron armor', 'naked body']\n",
        "        weapon = ['stick', 'machine', 'gun', 'sword']\n",
        "        damage = [50, 70, 45, 25, 63, 32]\n",
        "\n",
        "        self.name = name\n",
        "        self.armor = random.choice(armor)\n",
        "        self.weapon = random.choice(weapon)\n",
        "        self.damage = random.choice(damage)\n",
        "        self.health = 100\n",
        "\n",
        "\n",
        "    def get_health(self):\n",
        "        return self.health\n",
        "\n",
        "\n",
        "    def get_damage(self):\n",
        "        return self.damage\n",
        "\n",
        "\n",
        "    def take_damage(self, damage):\n",
        "        self.health -= damage\n",
        "\n",
        "        if self.health > 0:\n",
        "            return f'Урон нанесён со стороны дракона, хп рыцаря: {self.health}'\n",
        "        else:\n",
        "            return 'Последний урон нанесён, хп рыцаря на нуле, рыцарь умер'\n",
        "\n",
        "\n",
        "class Dragon:\n",
        "    def __init__(self, name):\n",
        "        health = [100, 150, 200, 250, 300, 350, 400, 450, 550, 600]\n",
        "        damage = [20, 13, 4, 5, 6, 12]\n",
        "\n",
        "        self.name = name\n",
        "        self.damage = random.choice(damage)\n",
        "        self.health = random.choice(health)\n",
        "\n",
        "\n",
        "    def get_health(self):\n",
        "        return self.health\n",
        "\n",
        "\n",
        "    def get_damage(self):\n",
        "        return self.damage\n",
        "\n",
        "\n",
        "    def take_damage(self, damage):\n",
        "        self.health -= damage\n",
        "\n",
        "        if self.health > 0:\n",
        "            return f'Урон нанесён со стороны рыцаря, хп дракона: {self.health}'\n",
        "        else:\n",
        "            return 'Последний урон нанесён, хп дракона на нуле, дракон умер'\n",
        "\n",
        "\n",
        "personage_name = input(\"Введите имя для персонажа: \")\n",
        "dragon_name = input(\"Введите имя для дракона: \")\n",
        "\n",
        "personage = Personage(personage_name)\n",
        "dragon = Dragon(dragon_name)\n",
        "\n",
        "while personage.get_health() > 0 and dragon.get_health() > 0:\n",
        "    if random.choice([True, False]):\n",
        "        print(dragon.take_damage(personage.get_damage()))\n",
        "    else:\n",
        "        print(personage.take_damage(dragon.get_damage()))\n",
        "\n",
        "if personage.get_health() <= 0:\n",
        "    print(f'{personage.name} умер, {dragon.name} победил!')\n",
        "else:\n",
        "    print(f'{dragon.name} умер, {personage.name} победил!')"
      ],
      "metadata": {
        "id": "Oz9BZbhAFwua",
        "outputId": "b443c7ac-5a79-48f4-ecdb-39a9147573aa",
        "colab": {
          "base_uri": "https://localhost:8080/"
        }
      },
      "execution_count": null,
      "outputs": [
        {
          "output_type": "stream",
          "name": "stdout",
          "text": [
            "Введите имя для персонажа: Илья\n",
            "Введите имя для дракона: Павел\n",
            "Урон нанесён со стороны дракона, хп рыцаря: 88\n",
            "Урон нанесён со стороны дракона, хп рыцаря: 76\n",
            "Урон нанесён со стороны рыцаря, хп дракона: 387\n",
            "Урон нанесён со стороны дракона, хп рыцаря: 64\n",
            "Урон нанесён со стороны рыцаря, хп дракона: 324\n",
            "Урон нанесён со стороны рыцаря, хп дракона: 261\n",
            "Урон нанесён со стороны рыцаря, хп дракона: 198\n",
            "Урон нанесён со стороны дракона, хп рыцаря: 52\n",
            "Урон нанесён со стороны рыцаря, хп дракона: 135\n",
            "Урон нанесён со стороны дракона, хп рыцаря: 40\n",
            "Урон нанесён со стороны дракона, хп рыцаря: 28\n",
            "Урон нанесён со стороны рыцаря, хп дракона: 72\n",
            "Урон нанесён со стороны дракона, хп рыцаря: 16\n",
            "Урон нанесён со стороны дракона, хп рыцаря: 4\n",
            "Последний урон нанесён, хп рыцаря на нуле, рыцарь умер\n",
            "Илья умер, Павел победил!\n"
          ]
        }
      ]
    },
    {
      "cell_type": "markdown",
      "source": [
        "# Дополнительное задание\n"
      ],
      "metadata": {
        "id": "b_mJHXcQGI9t"
      }
    },
    {
      "cell_type": "markdown",
      "source": [
        "Задача: Система управления библиотекой\n",
        "\n",
        "**Цель**\n",
        "Создайте простую систему управления библиотекой, которая позволит пользователям добавлять книги, брать книги, возвращать книги и просматривать список доступных книг.\n",
        "\n",
        "**Требования**\n",
        "\n",
        "1. **Определение класса**:\n",
        "   – Создайте класс с именем «Book» со следующими атрибутами:\n",
        "     - `title`\n",
        "     - `автор`\n",
        "     - `isbn`\n",
        "     - `is_borrowed` (по умолчанию `False`)\n",
        "\n",
        "2. **Класс библиотеки**:\n",
        "   - Создайте класс с именем Library, который управляет коллекцией книг.\n",
        "   - Класс должен иметь следующие методы:\n",
        "     - `__init__(self)`: инициализирует пустой список книг.\n",
        "     - `add_book(self, book: Book)`: добавляет новую книгу в библиотеку.\n",
        "     - `borrow_book(self, isbn: str)`: помечает книгу как заимствованную. Если книга не найдена или уже взята, выведите соответствующее сообщение.\n",
        "     - `return_book(self, isbn: str)`: помечает книгу как возвращенную. Если книга не найдена или не была взята взаймы, выведите соответствующее сообщение.\n",
        "     - `list_available_books(self)`: печатает список всех доступных книг в библиотеке.\n",
        "     - `find_book(self, isbn: str)`: возвращает объект книги, если он найден, в противном случае возвращает `None`.\n",
        "\n",
        "3. **Взаимодействие с пользователем**:\n",
        "   - Создайте простое текстовое меню, которое позволит пользователям:\n",
        "     - Добавить книгу\n",
        "     - Одолжить книгу\n",
        "     - Вернуть книгу\n",
        "     - Список доступных книг\n",
        "     - Выйти из программы"
      ],
      "metadata": {
        "id": "pnIUdFPcGOVL"
      }
    },
    {
      "cell_type": "code",
      "source": [],
      "metadata": {
        "id": "GKKmdfN8GL6f"
      },
      "execution_count": null,
      "outputs": []
    }
  ]
}