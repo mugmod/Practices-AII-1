{
  "cells": [
    {
      "cell_type": "markdown",
      "metadata": {
        "id": "phMKaFq3DN13"
      },
      "source": [
        "ФИО"
      ]
    },
    {
      "cell_type": "code",
      "execution_count": null,
      "metadata": {
        "id": "6q0_d0ATnNPm"
      },
      "outputs": [],
      "source": [
        "Денисов Роман Николаевич"
      ]
    },
    {
      "cell_type": "markdown",
      "metadata": {
        "id": "jyIy3GOgFOCe"
      },
      "source": [
        "**Во всей практике нельзя применять библиотеки предоставляющие готовые решения!**"
      ]
    },
    {
      "cell_type": "markdown",
      "metadata": {
        "id": "XizmlL1RK2t3"
      },
      "source": [
        "# **Задача 1.**\n"
      ]
    },
    {
      "cell_type": "markdown",
      "metadata": {
        "id": "p0v6KtHTFKSd"
      },
      "source": [
        "\n",
        "\n",
        "Типы данных Напишите программу на Python, которая принимает список чисел в качестве входных данных от пользователя, а затем выводит сумму, среднее значение и максимальное значение из списка.\n",
        "\n",
        "***Нельзя использовать: len(), min(), max(), average(), sum()***\n",
        "\n",
        "Дано:\n",
        "```\n",
        "1 2 3 4 5 6 7\n",
        "```\n",
        "Вывод:\n",
        "\n",
        "```\n",
        "Сумма чисел: 28\n",
        "Среднее арифм.: 4.0\n",
        "Максимальное значение: 7\n",
        "```\n",
        "\n"
      ]
    },
    {
      "cell_type": "code",
      "execution_count": null,
      "metadata": {
        "id": "0e1Virl0FpF6"
      },
      "outputs": [],
      "source": [
        "numbers = [int(num) for num in input(\"Введите список чисел через пробел \").split()]\n",
        "summ = 0\n",
        "ln = 0\n",
        "maximum = 0\n",
        "for x in numbers:\n",
        "  if x > maximum:\n",
        "    maximum = x\n",
        "  summ += x\n",
        "  ln += 1\n",
        "print(\"Сумма чисел:\", summ)\n",
        "print(\"Среднее арифм:\", summ / ln)\n",
        "print(\"Максимальное значение\", maximum)"
      ]
    },
    {
      "cell_type": "markdown",
      "metadata": {
        "id": "uFluc5OSK0NH"
      },
      "source": [
        "# **Задача 2.**"
      ]
    },
    {
      "cell_type": "markdown",
      "metadata": {
        "id": "6T8vg324GG4Z"
      },
      "source": [
        "\n",
        "Напишите программу на Python, которая принимает список слов в качестве входных данных от пользователя, а затем распечатывает список в обратном порядке.\n",
        "\n",
        "Ввод:\n",
        "\n",
        "```\n",
        "апельсин мандарин яблоко\n",
        "```\n",
        "\n",
        "Вывод:\n",
        "\n",
        "```\n",
        "яблоко мандарин апельсин\n",
        "```"
      ]
    },
    {
      "cell_type": "code",
      "execution_count": null,
      "metadata": {
        "id": "v3AWj4ufGKox"
      },
      "outputs": [],
      "source": [
        "print(*input(\"Введите список слов через пробел: \").split()[::-1])"
      ]
    },
    {
      "cell_type": "markdown",
      "metadata": {
        "id": "D1KkCxtIKxRx"
      },
      "source": [
        "# **Задача 3**"
      ]
    },
    {
      "cell_type": "markdown",
      "metadata": {
        "id": "Yq8Jgb9yHvSi"
      },
      "source": [
        "Простой чат-бот\n",
        "Создайте простого чат-бота, который отвечает на основные запросы пользователей. Программа должна использовать условные выражения для определения намерений пользователя и последующего соответствующего ответа.\n",
        "\n",
        "Чат бот может:\n",
        "\n",
        "- помогать складывать числа\n",
        "- подсказывать фильм, музыку и тд (из заранее созданного списка)\n",
        "- создавать список дел (а также выводить его, обновлять, очищать)\n",
        "\n",
        "Интерфейс чат-бота на ваше усмотрение, это могут быть как заранее определенные команды, так и к примеру вызов команды по номеру\n",
        "\n",
        "*Реализовать без использования функций*\n",
        "\n",
        "Пример:\n",
        "\n",
        "Ввод:\n",
        "\n",
        "```\n",
        "Олег, какую мызыку посоветуешь?\n",
        "```\n",
        "\n",
        "Вывод:\n",
        "\n",
        "```\n",
        "Я бы посоветовал вам: Led Zeppelin Stairway to Heaven\n",
        "```"
      ]
    },
    {
      "cell_type": "code",
      "execution_count": null,
      "metadata": {
        "id": "XnhKPigCiHtC"
      },
      "outputs": [],
      "source": [
        "import random\n",
        "lists = []\n",
        "choice_film = [\"Зелёная миля\", \"Бойцовский клуб\", \"Терминатор\", \"1+1\", \"2+2\"]\n",
        "choice_music = [\"SAMRATTAMA - Пыльные губы\", \"Jay Sean - Ride it\", \"ОМ. - Запомни\"]\n",
        "choice_quote = [\"Готовы ли вы ради будущего не торопить настоящее?\", \"— Ты что, уксус тыришь? — Может, у меня дети дома голодают! — Ага, уксуса просят\"]\n",
        "print(\"Привет, я Пипу, помогу могу помочь тебе вот с этим.\")\n",
        "flag1 = True\n",
        "while flag1:\n",
        "  print(\"Могу складывать числа - для этого нажми 1\")\n",
        "  print(\"Могу подсказать фильм, музыку, цитату - для этого нажимай 2\")\n",
        "  print(\"Могу создать обновляемый, очищаемый список твоих дел - для этого жми 3\")\n",
        "  go = int(input(\"Введи цифру: \"))\n",
        "\n",
        "\n",
        "  if go == 1:\n",
        "    summ = [int(num) for num in input(\"Введите числа, которые хотите сложить через пробел\").split()]\n",
        "    summ_exit = 0\n",
        "    for x in summ:\n",
        "      summ_exit += x\n",
        "    print(\"Сумма ваших чисел равна:\", summ_exit)\n",
        "\n",
        "\n",
        "  if go == 2:\n",
        "    choice = (input(\"Введите, что хотите услышать сегодня: фильм, музыку, цитату\")).lower()\n",
        "    if choice == \"фильм\":\n",
        "      print(random.choice(choice_film))\n",
        "    if choice == \"музыку\":\n",
        "      print(random.choice(choice_music))\n",
        "    if choice == \"цитату\":\n",
        "      print(random.choice(choice_quote))\n",
        "\n",
        "  flag2 = True\n",
        "  while flag2:\n",
        "    if go == 3:\n",
        "      print(\"Список автоматически создан. Что бы вы хотели сделать?\")\n",
        "      print(\"Обновить список - 1\")\n",
        "      print(\"Очистить список - 2\")\n",
        "      print(\"Посмотреть список - 3\")\n",
        "      quest = int(input(\"Введите цифру - \"))\n",
        "      if quest == 1:\n",
        "        dela = \"\"\n",
        "        while dela != \".\":\n",
        "          dela = input(\"Символ - . завершает программу. Введите новое дело:\")\n",
        "          lists.append(\")\" + dela)\n",
        "        lists.remove(\")\" + \".\")\n",
        "      print(*lists, sep = \"\\n\")\n",
        "      if quest == 2:\n",
        "        lists.clear()\n",
        "        print(\"Список очищен\")\n",
        "      if quest == 3:\n",
        "        if lists == []:\n",
        "          print(\"Список пуст\")\n",
        "        else:\n",
        "          print(*lists, sep = \"\\n\")\n",
        "      flag2 = True if input('Вернуться командам списка?(да/нет)') == 'да' else False\n",
        "  flag1 = True if input('Начать сначала?(да/нет)') == 'да' else False"
      ]
    },
    {
      "cell_type": "markdown",
      "metadata": {
        "id": "PHXBfyc6Ko7D"
      },
      "source": [
        "# **Задача 4.**\n"
      ]
    },
    {
      "cell_type": "markdown",
      "metadata": {
        "id": "jnKWeYleI0j6"
      },
      "source": [
        "Камень, ножницы, бумага\n",
        "\n",
        "Создайте игру в Камень, ножницы, бумагу, в которой пользователь может играть против компьютера. Программа должна запросить выбор пользователя, а затем сгенерировать выбор компьютера. Затем программа должна определить победителя на основе правил игры.\n",
        "\n",
        "**Этап 1:**\n",
        "\n",
        "Определение победителя\n",
        "\n",
        "**Этап 2:**\n",
        "  \n",
        "Игра до 3 побед\n",
        "\n",
        "\n",
        "Ввод для \"Этап 1\":\n",
        "\n",
        "```\n",
        "Камень\n",
        "```\n",
        "\n",
        "Вывод:\n",
        "\n",
        "```\n",
        "Компьютер: Ножницы\n",
        "Игрок: Камень\n",
        "Победа: Игрок\n",
        "```"
      ]
    },
    {
      "cell_type": "code",
      "execution_count": null,
      "metadata": {
        "id": "ooIPCRe_JHkX"
      },
      "outputs": [],
      "source": [
        "import random\n",
        "choice = [1,2,3]\n",
        "a = \"Победа: Игрок\"\n",
        "b = \"Победа: Компьютер\"\n",
        "v = \"Ничья\"\n",
        "count1 = 0\n",
        "count2 = 0\n",
        "while count1 != 3 and count2 != 3:\n",
        "  name = input(\"камень, ножницы или бумага? \").lower()\n",
        "  if name == \"камень\":\n",
        "    randomer = random.choice(choice)\n",
        "    if randomer == 1:\n",
        "      print(\"Компьютер: камень\")\n",
        "      print(\"Игрок: камень\")\n",
        "      print(v)\n",
        "      print(\"Победы игрока:\",count1,\"Победы компьютера:\",count2)\n",
        "    if randomer == 2:\n",
        "      print(\"Компьютер: ножницы\")\n",
        "      print(\"Игрок: камень\")\n",
        "      print(a)\n",
        "      count1 += 1\n",
        "      print(\"Победы игрока:\",count1,\"Победы компьютера:\",count2)\n",
        "    if randomer == 3:\n",
        "      print(\"Компьютер: бумага\")\n",
        "      print(\"Игрок: камень\")\n",
        "      print(b)\n",
        "      count2 += 1\n",
        "      print(\"Победы игрока:\",count1,\"Победы компьютера:\",count2)\n",
        "  if name == \"ножницы\":\n",
        "    randomer = random.choice(choice)\n",
        "    if randomer == 1:\n",
        "      print(\"Компьютер: камень\")\n",
        "      print(\"Игрок: ножницы\")\n",
        "      print(b)\n",
        "      count2 += 1\n",
        "      print(\"Победы игрока:\",count1,\"Победы компьютера:\",count2)\n",
        "    if randomer == 2:\n",
        "      print(\"Компьютер: ножницы\")\n",
        "      print(\"Игрок: ножницы\")\n",
        "      print(v)\n",
        "      print(\"Победы игрока:\",count1,\"Победы компьютера:\",count2)\n",
        "    if randomer == 3:\n",
        "      print(\"Компьютер: бумага\")\n",
        "      print(\"Игрок: ножницы\")\n",
        "      print(a)\n",
        "      count1 += 1\n",
        "      print(\"Победы игрока:\",count1,\"Победы компьютера:\",count2)\n",
        "  if name == \"бумага\":\n",
        "    randomer = random.choice(choice)\n",
        "    if randomer == 1:\n",
        "      print(\"Компьютер: камень\")\n",
        "      print(\"Игрок: бумага\")\n",
        "      print(a)\n",
        "      count1 += 1\n",
        "      print(\"Победы игрока:\",count1,\"Победы компьютера:\",count2)\n",
        "    if randomer == 2:\n",
        "      print(\"Компьютер: ножницы\")\n",
        "      print(\"Игрок: бумага\")\n",
        "      print(b)\n",
        "      count2 += 1\n",
        "      print(\"Победы игрока:\",count1,\"Победы компьютера:\",count2)\n",
        "    if randomer == 3:\n",
        "      print(\"Компьютер: бумага\")\n",
        "      print(\"Игрок: бумага\")\n",
        "      print(v)\n",
        "      print(\"Победы игрока:\",count1,\"Победы компьютера:\",count2)\n",
        "if count1 == 3:\n",
        "  print(\"Конечная победа принадлежит игроку\")\n",
        "if count2 == 3:\n",
        "  print(\"Конечная победа принадлежит компьютеру\")"
      ]
    },
    {
      "cell_type": "markdown",
      "metadata": {
        "id": "Hg4FJNFbLHQO"
      },
      "source": [
        "# **Задача 6.**"
      ]
    },
    {
      "cell_type": "markdown",
      "metadata": {
        "id": "OHqj3HJuLJgY"
      },
      "source": [
        "Создайте игру \"Палач\" или \"Виселица\", в которой пользователь должен угадать слово, предлагая буквы. Программа должна выбрать случайное слово, а затем разрешить пользователю угадывать буквы. После каждого угадывания программа должна сообщать пользователю, есть ли в слове буква или нет.\n",
        "\n",
        "**Этап 1**\n",
        "Создать саму игру\n",
        "\n",
        "**Этап 2:**\n",
        "Ввести подсчет количества очков и ограничения на попытки\n",
        "\n",
        "**Этап 3:** Добавить возможность сразу угадать слово"
      ]
    },
    {
      "cell_type": "code",
      "execution_count": null,
      "metadata": {
        "colab": {
          "base_uri": "https://localhost:8080/"
        },
        "id": "0N2zCYwVLiIw",
        "outputId": "11d45fe3-42f4-4f18-a472-b0984b64de53"
      },
      "outputs": [
        {
          "output_type": "stream",
          "name": "stdout",
          "text": [
            "Игра виселица началась\n",
            "Если хотите угадать слово целиком напишите \"поехали\"\n",
            "Попытки: 5\n",
            "Баллы: 5\n",
            "------\n",
            "Ввод: и\n",
            "Такой буквы нет\n",
            "Попытки: 4\n",
            "Баллы: 5\n",
            "------\n",
            "Ввод: п\n",
            "Такая буква есть в слове\n",
            "Попытки: 4\n",
            "Баллы: 6\n",
            "п-----\n",
            "Ввод: е\n",
            "Такая буква есть в слове\n",
            "Попытки: 4\n",
            "Баллы: 8\n",
            "пе-е--\n",
            "Ввод: с\n",
            "Такой буквы нет\n",
            "Попытки: 3\n",
            "Баллы: 8\n",
            "пе-е--\n",
            "Ввод: щ\n",
            "Такая буква есть в слове\n",
            "Попытки: 3\n",
            "Баллы: 9\n",
            "пеще--\n",
            "Ввод: а\n",
            "Такая буква есть в слове\n",
            "Попытки: 3\n",
            "Баллы: 10\n",
            "пеще-а\n",
            "Ввод: в\n",
            "Такой буквы нет\n",
            "Попытки: 2\n",
            "Баллы: 10\n",
            "пеще-а\n",
            "Ввод: в\n",
            "Такой буквы нет\n",
            "Попытки: 1\n",
            "Баллы: 10\n",
            "пеще-а\n",
            "Ввод: а\n",
            "Такой буквы нет\n",
            "Вы проиграли :\n",
            "Баллы: 5\n",
            "Зашифрованное слово: пещера\n"
          ]
        }
      ],
      "source": [
        "from random import *\n",
        "\n",
        "words = ['песня', 'идол', 'пещера', 'холодильник']\n",
        "\n",
        "print('Игра виселица началась')\n",
        "\n",
        "word = choice(words)\n",
        "inputer = '-' * len(word)\n",
        "name = word\n",
        "ball = 5\n",
        "repetitions = 5\n",
        "\n",
        "print('Если хотите угадать слово целиком напишите \"поехали\"')\n",
        "\n",
        "while repetitions != 0:\n",
        "  print('Попытки:', repetitions)\n",
        "  print('Баллы:', ball)\n",
        "  print(inputer)\n",
        "\n",
        "  entry = input('Ввод: ')\n",
        "  if entry == 'поехали':\n",
        "      slovo = input('Введите слово целиком: ')\n",
        "      if slovo == name:\n",
        "        ball += 10\n",
        "        break\n",
        "\n",
        "  if entry in word:\n",
        "    print('Такая буква есть в слове')\n",
        "    for i in range(name.count(entry)):\n",
        "      ball += 1\n",
        "      inputer = inputer[:word.index(entry)] + entry + inputer[word.index(entry) + 1:]\n",
        "      word = word.replace(entry, ' ', 1)\n",
        "\n",
        "  elif entry not in word:\n",
        "    print('Такой буквы нет')\n",
        "    repetitions -= 1\n",
        "\n",
        "  if inputer == name:\n",
        "    break\n",
        "\n",
        "if repetitions != 0:\n",
        "  ball += 5\n",
        "  print('Cлово успешно отгадано!')\n",
        "  print('Баллы:', ball)\n",
        "  print('Зашифрованное слово:', name)\n",
        "if repetitions == 0:\n",
        "  ball -= 5\n",
        "  print('Вы проиграли :')\n",
        "  print('Баллы:', ball)\n",
        "  print('Зашифрованное слово:', name)"
      ]
    },
    {
      "cell_type": "markdown",
      "metadata": {
        "id": "w0x3QFGzKtDD"
      },
      "source": [
        "# **Дополнительно: Задача 7.**\n"
      ]
    },
    {
      "cell_type": "code",
      "source": [],
      "metadata": {
        "id": "7QHirVlGuP6n"
      },
      "execution_count": null,
      "outputs": []
    },
    {
      "cell_type": "markdown",
      "metadata": {
        "id": "QqZArcpHJxVj"
      },
      "source": [
        "\n",
        "**Цифра на определенном месте:**\n",
        "\n",
        "Последовательно записан натуральный ряд чисел.\n",
        "\n",
        "Какая цифра стоит в N позиции\n",
        "\n",
        "\n",
        "Вввод:\n",
        "\n",
        "```\n",
        "Введите номер позиции: 1234567890\n",
        "```\n",
        "\n",
        "Вывод:\n",
        "\n",
        "```\n",
        "8\n",
        "```"
      ]
    },
    {
      "cell_type": "code",
      "execution_count": null,
      "metadata": {
        "id": "LwjYwBGcKiJ9"
      },
      "outputs": [],
      "source": []
    }
  ],
  "metadata": {
    "colab": {
      "collapsed_sections": [
        "XizmlL1RK2t3",
        "uFluc5OSK0NH",
        "PHXBfyc6Ko7D",
        "w0x3QFGzKtDD"
      ],
      "provenance": []
    },
    "kernelspec": {
      "display_name": "Python 3",
      "name": "python3"
    },
    "language_info": {
      "name": "python"
    }
  },
  "nbformat": 4,
  "nbformat_minor": 0
}